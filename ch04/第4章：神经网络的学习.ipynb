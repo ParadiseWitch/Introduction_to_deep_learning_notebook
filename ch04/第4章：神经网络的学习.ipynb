{
 "cells": [
  {
   "attachments": {},
   "cell_type": "markdown",
   "metadata": {},
   "source": [
    "计算机视觉领域，常用的特征量包括`SIFT`、`SURF`和`HOG`等。\n",
    "使用这些特征量将图像数据转换为向量，然后对转换后的向量使用机器学习中的`SVM`、`KNN`等分类器进行学习。"
   ]
  },
  {
   "cell_type": "code",
   "execution_count": null,
   "metadata": {},
   "outputs": [],
   "source": []
  }
 ],
 "metadata": {
  "language_info": {
   "name": "python"
  },
  "orig_nbformat": 4
 },
 "nbformat": 4,
 "nbformat_minor": 2
}
