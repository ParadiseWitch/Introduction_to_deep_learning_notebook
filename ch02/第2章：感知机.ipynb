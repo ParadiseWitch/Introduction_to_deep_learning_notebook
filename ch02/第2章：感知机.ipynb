{
 "cells": [
  {
   "attachments": {},
   "cell_type": "markdown",
   "metadata": {},
   "source": [
    "# 第2章 感知机\n",
    "- 感知机可以表示与门、与非门、或门\n",
    "- 感知机不能表示异或门\n",
    "\n",
    "一组感知机有w1, w2, b三个参数，对于两个x1, x2输入，表示的是一条直线\n",
    "\n",
    "- 组合感知机通过叠加层表示异或门。实际就是使用与门、与非门、或门表示异或门"
   ]
  },
  {
   "cell_type": "code",
   "execution_count": 6,
   "metadata": {},
   "outputs": [
    {
     "data": {
      "text/plain": [
       "True"
      ]
     },
     "execution_count": 6,
     "metadata": {},
     "output_type": "execute_result"
    }
   ],
   "source": [
    "# 与门\n",
    "def AND(x1, x2):\n",
    "    w1, w2, theta = 0.5, 0.5, 0.7\n",
    "    tmp = w1 * x1 + w2 * x2\n",
    "    if tmp <= theta:\n",
    "        return False\n",
    "    elif tmp > theta:\n",
    "        return True\n",
    "AND(0, 0) # 输出0\n",
    "AND(1, 0) # 输出0\n",
    "AND(0, 1) # 输出0\n",
    "AND(1, 1) # 输出1"
   ]
  },
  {
   "attachments": {},
   "cell_type": "markdown",
   "metadata": {},
   "source": [
    "令 `b=-theta`\n",
    "将$b$称为**偏置**，$w1$和$w2$称为**权重**\n",
    "w1和w2是控制输入信号的重要性的参数，而偏置是调整神经元被激活的容易程度"
   ]
  },
  {
   "cell_type": "code",
   "execution_count": 9,
   "metadata": {},
   "outputs": [
    {
     "data": {
      "text/plain": [
       "True"
      ]
     },
     "execution_count": 9,
     "metadata": {},
     "output_type": "execute_result"
    }
   ],
   "source": [
    "# 与门（使用numpy） 使用权重和偏置的实现\n",
    "def AND(x1, x2):\n",
    "    x = np.array([x1, x2])\n",
    "    w = np.array([0.5, 0.5])\n",
    "    b = -0.7\n",
    "    return np.sum(x * w) + b > 0\n",
    "AND(0, 0) # 输出0\n",
    "AND(1, 0) # 输出0\n",
    "AND(0, 1) # 输出0\n",
    "AND(1, 1) # 输出1\n",
    "\n",
    "# 与非门\n",
    "def NAND(x1, x2):\n",
    "    x = np.array([x1, x2])\n",
    "    w = np.array([-0.5, -0.5])\n",
    "    return np.sum(x * w) - 0.7 > 0\n",
    "\n",
    "def OR(x1, x2):\n",
    "    x = np.array([x1, x2])\n",
    "    w = np.array([0.5, 0.5])\n",
    "    return np.sum(x * w) - 0.2 > 0\n"
   ]
  },
  {
   "cell_type": "code",
   "execution_count": 10,
   "metadata": {},
   "outputs": [],
   "source": [
    "# 异或门\n",
    "def XOR(x1, x2):\n",
    "    s1 = NAND(x1, x2)\n",
    "    s2 = OR(x1, x2)\n",
    "    y = AND(s1, s2)\n",
    "    return y"
   ]
  },
  {
   "attachments": {},
   "cell_type": "markdown",
   "metadata": {},
   "source": []
  },
  {
   "attachments": {},
   "cell_type": "markdown",
   "metadata": {},
   "source": []
  },
  {
   "cell_type": "code",
   "execution_count": null,
   "metadata": {},
   "outputs": [],
   "source": []
  }
 ],
 "metadata": {
  "kernelspec": {
   "display_name": "base",
   "language": "python",
   "name": "python3"
  },
  "language_info": {
   "codemirror_mode": {
    "name": "ipython",
    "version": 3
   },
   "file_extension": ".py",
   "mimetype": "text/x-python",
   "name": "python",
   "nbconvert_exporter": "python",
   "pygments_lexer": "ipython3",
   "version": "3.10.4"
  },
  "orig_nbformat": 4,
  "vscode": {
   "interpreter": {
    "hash": "3bdf9f3d51a54943378783aca994e1eeb0b6622d9d1c319fb095fe6127625b30"
   }
  }
 },
 "nbformat": 4,
 "nbformat_minor": 2
}
