{
 "cells": [
  {
   "attachments": {},
   "cell_type": "markdown",
   "metadata": {},
   "source": [
    "要正确理解误差反向传播法，我个人认为有两种方法：一种是基于数学式；另一种是基于计算图\n",
    "\n",
    "## 计算图\n",
    "用计算图解题的情况下，需要按如下流程进行。\n",
    "1.构建计算图。\n",
    "2.在计算图上，从左向右进行计算。\n",
    "\n",
    "这里的第2歩“从左向右进行计算”是一种正方向上的传播，简称为**正向传播**（forward propagation）。\n",
    "**反向传播**即以反方向传播\n",
    "\n",
    "使用计算图最大的原因是，可以通过反向传播高效计算导数\n",
    "\n",
    "计算图的反向传播：沿着与正方向相反的方向，乘上局部导数\n",
    "\n",
    "### 链式法则\n",
    "> 如果某个函数由复合函数表示，则该复合函数的导数可以用构成复合函数的各个函数的导数的乘积表示。\n",
    "\n",
    "如果\n",
    "$$\n",
    "z = t^2\\\\\n",
    "t = x + y\n",
    "$$\n",
    "那么：\n",
    "$$\n",
    "\\frac{\\partial z}{\\partial x} = \\frac{\\partial z}{\\partial t} \\frac{\\partial t}{\\partial x} = 2t=2(x + y)\n",
    "$$\n",
    "\n",
    "---\n",
    "反向传播是基于链式法则的:\n",
    "\n",
    "![](./%E5%9B%BE5-7%20%E9%93%BE%E5%BC%8F%E6%B3%95%E5%88%99%E4%B8%8E%E8%AE%A1%E7%AE%97%E5%9B%BE.png)\n",
    "\n",
    "![](./%E5%9B%BE5-8%20%E9%93%BE%E5%BC%8F%E6%B3%95%E5%88%99%E4%B8%8E%E8%AE%A1%E7%AE%97%E5%9B%BE.png)\n",
    "\n",
    "\n"
   ]
  },
  {
   "attachments": {},
   "cell_type": "markdown",
   "metadata": {},
   "source": [
    "## 反向传播\n",
    "加法节点的反向传播将上游的值原封不动地输出到下游  \n",
    "乘法的反向传播会乘以输入信号的翻转值，乘法的反向传播需要正向传播时的输入信号值。因此，实现乘法节点的反向传播时，要保存正向传播的输入信号\n"
   ]
  },
  {
   "attachments": {},
   "cell_type": "markdown",
   "metadata": {},
   "source": [
    "## 乘法层和加法层的实现"
   ]
  },
  {
   "cell_type": "code",
   "execution_count": null,
   "metadata": {},
   "outputs": [],
   "source": [
    "# 乘法层 需要记住输入\n",
    "class MulLayer:\n",
    "  def __init__(self):\n",
    "    self.x = None\n",
    "    self.y = None\n",
    "\n",
    "  def forward(self, x, y):\n",
    "    self.x = x\n",
    "    self.y = y\n",
    "    out = x * y\n",
    "    return out\n",
    "\n",
    "  def backward(self, dout):\n",
    "    dx = dout * self.y\n",
    "    dy = dout * self.x\n",
    "    return dx, dy\n",
    "\n",
    "# 加法层 不需要记住输入\n",
    "class AddLayer:\n",
    "  def __init__(self):\n",
    "    pass\n",
    "\n",
    "  def forward(self, x, y):\n",
    "    out = x + y\n",
    "    return out\n",
    "\n",
    "  def backward(self, dout):\n",
    "    dx = dout * 1\n",
    "    dy = dout * 1\n",
    "    return dx, dy\n"
   ]
  },
  {
   "attachments": {},
   "cell_type": "markdown",
   "metadata": {},
   "source": [
    "## 激活函数层的实现\n",
    "ReLU函数\n",
    "$$\n",
    "\\begin{aligned}\n",
    "h(x) &=\n",
    "\\begin{cases}\n",
    "x & (x\\gt 0) \\\\\n",
    "0 & (x\\leqslant 0) \\\\\n",
    "\\end{cases}\n",
    "\\end{aligned}\n",
    "$$\n",
    "\n",
    "$$\n",
    "\\frac{\\partial y}{\\partial x}=\n",
    "\\begin{cases}\n",
    "1 & (x \\gt 0)\\\\\n",
    "0 & (x \\leqslant 0)\\\\\n",
    "\\end{cases}\n",
    "\n",
    "$$"
   ]
  },
  {
   "cell_type": "code",
   "execution_count": null,
   "metadata": {},
   "outputs": [],
   "source": [
    "class Relu:\n",
    "  def __init__(self):\n",
    "    self.mask = None\n",
    "  def forward(self, x):\n",
    "    self.mask = (x <= 0)\n",
    "    out = x.copy()\n",
    "    out[self.mask] = 0\n",
    "    return out\n",
    "  def backward(self, dout):\n",
    "    dout[self.mask] = 0\n",
    "    dx = dout\n",
    "    return dx\n"
   ]
  },
  {
   "attachments": {},
   "cell_type": "markdown",
   "metadata": {},
   "source": [
    "Sigmoid层："
   ]
  },
  {
   "attachments": {},
   "cell_type": "markdown",
   "metadata": {},
   "source": [
    "$$f(x)=\\frac{1}{1+e^{-x}}$$\n",
    "\n",
    "设$u=1+e^{-x}$\n",
    "$$\n",
    "\\begin{aligned}\n",
    "f'(x)&=f'(u)u' \\\\\n",
    "&=-\\frac{1}{u^2}(-e^{-x}) \\\\\n",
    "&=\\frac{e^{-x}}{(1+e^{-x})^2}\\\\\n",
    "&=\\frac{1}{1+e^{-x}}\\cdot\\frac{e^{-x}}{1+e^{-x}}\\\\\n",
    "&=\\frac{1}{1+e^{-x}}\\cdot\\frac{1+e^{-x}-1}{1+e^{-x}}\\\\\n",
    "&=\\frac{1}{1+e^{-x}}\\cdot(1-\\frac{1}{1+e^{-x}})\\\\\n",
    "&=f(x)(1-f(x))\n",
    "\\end{aligned}\n",
    "$$"
   ]
  },
  {
   "cell_type": "code",
   "execution_count": 2,
   "metadata": {},
   "outputs": [],
   "source": [
    "import numpy as np\n",
    "\n",
    "class Sigmoid:\n",
    "  def __init__(self):\n",
    "    self.out = None\n",
    "  def forward(self, x):\n",
    "    out = 1 / (1 + np.exp(-x))\n",
    "    self.out = out\n",
    "    return out\n",
    "  def backward(self, dout):\n",
    "    dx = dout * (1.0 - self.out) * self.out\n",
    "    return dx\n"
   ]
  },
  {
   "attachments": {},
   "cell_type": "markdown",
   "metadata": {},
   "source": [
    "Affine层\n",
    "\n",
    "![](./%E5%9B%BE5-24%20Affine%E5%B1%82%E8%AE%A1%E7%AE%97%E5%9B%BE.png)\n",
    "\n",
    "$$\n",
    "\\frac{\\partial L}{\\partial X} = \\frac{\\partial L}{\\partial Y} W^T \\\\\n",
    "\n",
    "\\frac{\\partial L}{\\partial W} =  X^T\\frac{\\partial L}{\\partial Y} \\\\\n",
    "\n",
    "$$"
   ]
  },
  {
   "cell_type": "code",
   "execution_count": 3,
   "metadata": {},
   "outputs": [],
   "source": [
    "class Affine:\n",
    "  def __init__(self, W, b):\n",
    "    self.W = W\n",
    "    self.b = b\n",
    "    self.x = None\n",
    "    self.dW = None\n",
    "    self.db = None\n",
    "  def forward(self, x):\n",
    "    self.x = x\n",
    "    out = np.dot(x, self.W) + self.b\n",
    "    return out\n",
    "  def backward(self, dout):\n",
    "    dx = np.dot(dout, self.W.T)\n",
    "    self.dW = np.dot(self.x.T, dout)\n",
    "    self.db = np.sum(dout, axis=0)\n",
    "    return dx\n"
   ]
  },
  {
   "attachments": {},
   "cell_type": "markdown",
   "metadata": {},
   "source": [
    "Softmax-with-Loss 层（Softmax函数和交叉熵误差）\n",
    "> 神经网络中进行的处理有推理（inference）和学习两个阶段。神经网络的推理通常不使用 Softmax层。比如，用图 5-28的网络进行推理时，会将最后一个 Affine层的输出作为识别结果。神经网络中未被正规化的输出结果（图 5-28中 Softmax层前面的 Affine层的输出）有时被称为“得分”。也就是说，当神经网络的推理只需要给出一个答案的情况下，因为此时只对得分最大值感兴趣，所以不需要 Softmax层。不过，神经网络的学习阶段则需要 Softmax层。\n",
    "\n",
    "![](./%E5%9B%BE5-30%E3%80%80%E2%80%9C%E7%AE%80%E6%98%93%E7%89%88%E2%80%9D%E7%9A%84Softmax-with-Loss%E5%B1%82%E7%9A%84%E8%AE%A1%E7%AE%97%E5%9B%BE.png)\n",
    "\n",
    "\n",
    "> 使用交叉熵误差作为 softmax函数的损失函数后，反向传播得到$(y1 − t1, y2 − t2, y3 − t3)$ 这样“漂亮”的结果。实际上，这样“漂亮”的结果并不是偶然的，而是为了得到这样的结果，特意设计了交叉熵误差函数。回归问题中输出层使用“恒等函数”，损失函数使用“平方和误差”，也是出于同样的理由（3.5节）。也就是说，使用“平方和误差”作为“恒等函数”的损失函数，反向传播才能得到$(y1 −t1, y2 − t2, y3 − t3)$这样“漂亮”的结果。"
   ]
  },
  {
   "cell_type": "code",
   "execution_count": null,
   "metadata": {},
   "outputs": [],
   "source": [
    "class SoftmaxWithLoss:\n",
    "  def __init__(self):\n",
    "    self.loss = None  # 损失\n",
    "    self.y = None  # softmax的输出\n",
    "    self.t = None  # 监督数据（one-hot vector）\n",
    "\n",
    "  def forward(self, x, t):\n",
    "    self.t = t\n",
    "    self.y = softmax(x)\n",
    "    self.loss = cross_entropy_error(self.y, self.t)\n",
    "    return self.loss\n",
    "\n",
    "  def backward(self, dout=1):\n",
    "    batch_size = self.t.shape[0]\n",
    "    dx = (self.y - self.t) / batch_size\n",
    "    return dx\n",
    "\n",
    "\n",
    "def softmax(x):\n",
    "  c = np.max(x)\n",
    "  exp_x = np.exp(x - c)\n",
    "  sum_exp_x = np.sum(exp_x)\n",
    "  return exp_x / sum_exp_x\n",
    "\n",
    "\n",
    "def cross_entropy_error(y, t):\n",
    "  if y.ndim == 1:\n",
    "    t = t.reshape(1, t.size)\n",
    "    y = y.reshape(1, y.size)\n",
    "  batch_size = y.shape[0]\n",
    "  return -np.sum(t * np.log(y + 1e-7)) / batch_size\n"
   ]
  },
  {
   "attachments": {},
   "cell_type": "markdown",
   "metadata": {},
   "source": [
    "**前提**\n",
    "神经网络中有合适的权重和偏置，调整权重和偏置以便拟合训练数据的\n",
    "过程称为学习。神经网络的学习分为下面4个步骤。\n",
    "**步骤1（mini-batch）**\n",
    "从训练数据中随机选择一部分数据。\n",
    "**步骤2（计算梯度）**\n",
    "计算损失函数关于各个权重参数的梯度。\n",
    "**步骤3（更新参数）**\n",
    "将权重参数沿梯度方向进行微小的更新。\n",
    "**步骤4（重复）**\n",
    "重复步骤1、步骤2、步骤3\n",
    "\n",
    "之前介绍的误差反向传播法会在步骤2中出现。\n",
    "误差反向传播法可以快速高效地计算梯度。\n"
   ]
  }
 ],
 "metadata": {
  "kernelspec": {
   "display_name": "base",
   "language": "python",
   "name": "python3"
  },
  "language_info": {
   "codemirror_mode": {
    "name": "ipython",
    "version": 3
   },
   "file_extension": ".py",
   "mimetype": "text/x-python",
   "name": "python",
   "nbconvert_exporter": "python",
   "pygments_lexer": "ipython3",
   "version": "3.9.13 (main, Aug 25 2022, 23:51:50) [MSC v.1916 64 bit (AMD64)]"
  },
  "orig_nbformat": 4,
  "vscode": {
   "interpreter": {
    "hash": "3bdf9f3d51a54943378783aca994e1eeb0b6622d9d1c319fb095fe6127625b30"
   }
  }
 },
 "nbformat": 4,
 "nbformat_minor": 2
}
