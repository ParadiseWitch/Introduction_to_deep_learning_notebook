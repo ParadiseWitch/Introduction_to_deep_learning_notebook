{
 "cells": [
  {
   "attachments": {},
   "cell_type": "markdown",
   "metadata": {},
   "source": [
    "要正确理解误差反向传播法，我个人认为有两种方法：一种是基于数学式；另一种是基于计算图\n",
    "\n",
    "## 计算图\n",
    "用计算图解题的情况下，需要按如下流程进行。\n",
    "1.构建计算图。\n",
    "2.在计算图上，从左向右进行计算。\n",
    "\n",
    "这里的第2歩“从左向右进行计算”是一种正方向上的传播，简称为**正向传播**（forward propagation）。\n",
    "**反向传播**即以反方向传播\n",
    "\n",
    "使用计算图最大的原因是，可以通过反向传播高效计算导数\n",
    "\n",
    "计算图的反向传播：沿着与正方向相反的方向，乘上局部导数\n",
    "\n",
    "### 链式法则\n",
    "> 如果某个函数由复合函数表示，则该复合函数的导数可以用构成复合函数的各个函数的导数的乘积表示。\n",
    "\n",
    "如果\n",
    "$$\n",
    "z = t^2\\\\\n",
    "t = x + y\n",
    "$$\n",
    "那么：\n",
    "$$\n",
    "\\frac{\\partial z}{\\partial x} = \\frac{\\partial z}{\\partial t} \\frac{\\partial t}{\\partial x} = 2t=2(x + y)\n",
    "$$\n",
    "\n",
    "---\n",
    "反向传播是基于链式法则的:\n",
    "\n",
    "![](./%E5%9B%BE5-7%20%E9%93%BE%E5%BC%8F%E6%B3%95%E5%88%99%E4%B8%8E%E8%AE%A1%E7%AE%97%E5%9B%BE.png)\n",
    "\n",
    "![](./%E5%9B%BE5-8%20%E9%93%BE%E5%BC%8F%E6%B3%95%E5%88%99%E4%B8%8E%E8%AE%A1%E7%AE%97%E5%9B%BE.png)\n",
    "\n",
    "\n"
   ]
  },
  {
   "attachments": {},
   "cell_type": "markdown",
   "metadata": {},
   "source": [
    "## 反向传播\n",
    "加法节点的反向传播将上游的值原封不动地输出到下游  \n",
    "乘法的反向传播会乘以输入信号的翻转值，乘法的反向传播需要正向传播时的输入信号值。因此，实现乘法节点的反向传播时，要保存正向传播的输入信号\n"
   ]
  },
  {
   "attachments": {},
   "cell_type": "markdown",
   "metadata": {},
   "source": [
    "## 乘法层和加法层的实现"
   ]
  },
  {
   "cell_type": "code",
   "execution_count": null,
   "metadata": {},
   "outputs": [],
   "source": [
    "# 乘法层 需要记住输入\n",
    "class MulLayer:\n",
    "  def __init__(self):\n",
    "    self.x = None\n",
    "    self.y = None\n",
    "\n",
    "  def forward(self, x, y):\n",
    "    self.x = x\n",
    "    self.y = y\n",
    "    out = x * y\n",
    "    return out\n",
    "\n",
    "  def backward(self, dout):\n",
    "    dx = dout * self.y\n",
    "    dy = dout * self.x\n",
    "    return dx, dy\n",
    "\n",
    "# 加法层 不需要记住输入\n",
    "class AddLayer:\n",
    "  def __init__(self):\n",
    "    pass\n",
    "\n",
    "  def forward(self, x, y):\n",
    "    out = x + y\n",
    "    return out\n",
    "\n",
    "  def backward(self, dout):\n",
    "    dx = dout * 1\n",
    "    dy = dout * 1\n",
    "    return dx, dy\n"
   ]
  }
 ],
 "metadata": {
  "kernelspec": {
   "display_name": "Python 3",
   "language": "python",
   "name": "python3"
  },
  "language_info": {
   "name": "python",
   "version": "3.10.10 (tags/v3.10.10:aad5f6a, Feb  7 2023, 17:20:36) [MSC v.1929 64 bit (AMD64)]"
  },
  "orig_nbformat": 4,
  "vscode": {
   "interpreter": {
    "hash": "8e78e0a8da4f1d2efc23c31a3371fa724a6eb734ea91113de51ea3b51c033742"
   }
  }
 },
 "nbformat": 4,
 "nbformat_minor": 2
}
